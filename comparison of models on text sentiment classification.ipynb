{
 "cells": [
  {
   "cell_type": "code",
   "execution_count": 1,
   "id": "5acceed2",
   "metadata": {},
   "outputs": [],
   "source": [
    "import pandas as pd\n",
    "import numpy as np\n",
    "import nltk\n",
    "import re\n",
    "from nltk.corpus import stopwords\n",
    "from nltk.stem.porter import PorterStemmer \n",
    "from matplotlib import pyplot as plt\n",
    "import seaborn as sns\n",
    "%matplotlib inline"
   ]
  },
  {
   "cell_type": "code",
   "execution_count": 90,
   "id": "77e9b0bd",
   "metadata": {},
   "outputs": [
    {
     "data": {
      "text/html": [
       "<div>\n",
       "<style scoped>\n",
       "    .dataframe tbody tr th:only-of-type {\n",
       "        vertical-align: middle;\n",
       "    }\n",
       "\n",
       "    .dataframe tbody tr th {\n",
       "        vertical-align: top;\n",
       "    }\n",
       "\n",
       "    .dataframe thead th {\n",
       "        text-align: right;\n",
       "    }\n",
       "</style>\n",
       "<table border=\"1\" class=\"dataframe\">\n",
       "  <thead>\n",
       "    <tr style=\"text-align: right;\">\n",
       "      <th></th>\n",
       "      <th>id</th>\n",
       "      <th>review</th>\n",
       "      <th>rating</th>\n",
       "    </tr>\n",
       "  </thead>\n",
       "  <tbody>\n",
       "    <tr>\n",
       "      <th>0</th>\n",
       "      <td>0</td>\n",
       "      <td>Arrived about 10pm and check in was painless. ...</td>\n",
       "      <td>4</td>\n",
       "    </tr>\n",
       "    <tr>\n",
       "      <th>1</th>\n",
       "      <td>1</td>\n",
       "      <td>I checked in at 4pm even tough room was not re...</td>\n",
       "      <td>2</td>\n",
       "    </tr>\n",
       "    <tr>\n",
       "      <th>2</th>\n",
       "      <td>2</td>\n",
       "      <td>I chose this hotel, as it was in a good locati...</td>\n",
       "      <td>2</td>\n",
       "    </tr>\n",
       "    <tr>\n",
       "      <th>3</th>\n",
       "      <td>3</td>\n",
       "      <td>Great location, super close to shops &amp; a 10min...</td>\n",
       "      <td>4</td>\n",
       "    </tr>\n",
       "    <tr>\n",
       "      <th>4</th>\n",
       "      <td>4</td>\n",
       "      <td>I was in the Sir Adam Hotel to visit a friend....</td>\n",
       "      <td>3</td>\n",
       "    </tr>\n",
       "  </tbody>\n",
       "</table>\n",
       "</div>"
      ],
      "text/plain": [
       "   id                                             review rating\n",
       "0   0  Arrived about 10pm and check in was painless. ...      4\n",
       "1   1  I checked in at 4pm even tough room was not re...      2\n",
       "2   2  I chose this hotel, as it was in a good locati...      2\n",
       "3   3  Great location, super close to shops & a 10min...      4\n",
       "4   4  I was in the Sir Adam Hotel to visit a friend....      3"
      ]
     },
     "execution_count": 90,
     "metadata": {},
     "output_type": "execute_result"
    }
   ],
   "source": [
    "train_data = pd.read_csv('data/sentiment_dataset_train.csv', index_col = None)\n",
    "test_data = pd.read_csv('data/sentiment_dataset_test.csv')\n",
    "train_data.head()"
   ]
  },
  {
   "cell_type": "code",
   "execution_count": 91,
   "id": "57898425",
   "metadata": {},
   "outputs": [
    {
     "name": "stdout",
     "output_type": "stream",
     "text": [
      "30942                                                5\n",
      "30943                                                5\n",
      "30944    Tables not made up prior to guest seating. 2.\n",
      "30945                                                5\n",
      "30946                                                2\n",
      "30947                                                3\n",
      "30948                                                1\n",
      "30949                                                2\n",
      "Name: rating, dtype: object\n",
      "30942    5\n",
      "30943    5\n",
      "30945    5\n",
      "30946    2\n",
      "30947    3\n",
      "30948    1\n",
      "30949    2\n",
      "30950    2\n",
      "Name: rating, dtype: object\n"
     ]
    }
   ],
   "source": [
    "print(train_data['rating'][30942:30950])\n",
    "train_data.drop(index= 30944, inplace= True)\n",
    "print(train_data['rating'][30942:30950])"
   ]
  },
  {
   "cell_type": "code",
   "execution_count": 92,
   "id": "c50ac7b2",
   "metadata": {},
   "outputs": [
    {
     "name": "stdout",
     "output_type": "stream",
     "text": [
      "Shape (35004, 3) \n",
      "Size 105012\n",
      "30942    5\n",
      "30943    5\n",
      "30945    5\n",
      "30946    2\n",
      "30947    3\n",
      "30948    1\n",
      "30949    2\n",
      "30950    2\n",
      "Name: rating, dtype: object\n"
     ]
    }
   ],
   "source": [
    "print('Shape {} \\nSize {}'.format(train_data.shape, train_data.size))\n",
    "print(train_data['rating'][30942:30950])\n",
    "train_data.reset_index(drop=True, inplace=True)"
   ]
  },
  {
   "cell_type": "code",
   "execution_count": 5,
   "id": "49d880f0",
   "metadata": {},
   "outputs": [
    {
     "name": "stdout",
     "output_type": "stream",
     "text": [
      "<class 'pandas.core.frame.DataFrame'>\n",
      "RangeIndex: 35004 entries, 0 to 35003\n",
      "Data columns (total 3 columns):\n",
      " #   Column  Non-Null Count  Dtype \n",
      "---  ------  --------------  ----- \n",
      " 0   id      35004 non-null  int64 \n",
      " 1   review  35004 non-null  object\n",
      " 2   rating  35004 non-null  object\n",
      "dtypes: int64(1), object(2)\n",
      "memory usage: 820.5+ KB\n"
     ]
    }
   ],
   "source": [
    "train_data.info()"
   ]
  },
  {
   "cell_type": "code",
   "execution_count": 6,
   "id": "99bd3a0c",
   "metadata": {},
   "outputs": [
    {
     "data": {
      "text/plain": [
       "id        0\n",
       "review    0\n",
       "rating    0\n",
       "dtype: int64"
      ]
     },
     "execution_count": 6,
     "metadata": {},
     "output_type": "execute_result"
    }
   ],
   "source": [
    "#To check for NaN or missing values in the DataFrame\n",
    "train_data.isnull().sum()"
   ]
  },
  {
   "cell_type": "code",
   "execution_count": 7,
   "id": "2a32db53",
   "metadata": {},
   "outputs": [],
   "source": [
    "rating_group=train_data.groupby(['rating']).size()"
   ]
  },
  {
   "cell_type": "code",
   "execution_count": 8,
   "id": "a4fac6de",
   "metadata": {},
   "outputs": [
    {
     "data": {
      "text/html": [
       "<div>\n",
       "<style scoped>\n",
       "    .dataframe tbody tr th:only-of-type {\n",
       "        vertical-align: middle;\n",
       "    }\n",
       "\n",
       "    .dataframe tbody tr th {\n",
       "        vertical-align: top;\n",
       "    }\n",
       "\n",
       "    .dataframe thead th {\n",
       "        text-align: right;\n",
       "    }\n",
       "</style>\n",
       "<table border=\"1\" class=\"dataframe\">\n",
       "  <thead>\n",
       "    <tr style=\"text-align: right;\">\n",
       "      <th></th>\n",
       "      <th>number_per_score</th>\n",
       "      <th>scores</th>\n",
       "    </tr>\n",
       "    <tr>\n",
       "      <th>rating</th>\n",
       "      <th></th>\n",
       "      <th></th>\n",
       "    </tr>\n",
       "  </thead>\n",
       "  <tbody>\n",
       "    <tr>\n",
       "      <th>1</th>\n",
       "      <td>7028</td>\n",
       "      <td>1</td>\n",
       "    </tr>\n",
       "    <tr>\n",
       "      <th>2</th>\n",
       "      <td>7031</td>\n",
       "      <td>2</td>\n",
       "    </tr>\n",
       "    <tr>\n",
       "      <th>3</th>\n",
       "      <td>6971</td>\n",
       "      <td>3</td>\n",
       "    </tr>\n",
       "    <tr>\n",
       "      <th>4</th>\n",
       "      <td>6997</td>\n",
       "      <td>4</td>\n",
       "    </tr>\n",
       "    <tr>\n",
       "      <th>5</th>\n",
       "      <td>6977</td>\n",
       "      <td>5</td>\n",
       "    </tr>\n",
       "  </tbody>\n",
       "</table>\n",
       "</div>"
      ],
      "text/plain": [
       "        number_per_score  scores\n",
       "rating                          \n",
       "1                   7028       1\n",
       "2                   7031       2\n",
       "3                   6971       3\n",
       "4                   6997       4\n",
       "5                   6977       5"
      ]
     },
     "execution_count": 8,
     "metadata": {},
     "output_type": "execute_result"
    }
   ],
   "source": [
    "score_cluster = pd.DataFrame(rating_group, columns = ['number_per_score'], index = None)\n",
    "scores = [1,2,3,4,5]\n",
    "score_cluster['scores'] = scores\n",
    "score_cluster.head()"
   ]
  },
  {
   "cell_type": "code",
   "execution_count": 201,
   "id": "5afa4800",
   "metadata": {},
   "outputs": [
    {
     "data": {
      "image/png": "[encoded data removed]",
      "text/plain": [
       "<Figure size 432x288 with 1 Axes>"
      ]
     },
     "metadata": {},
     "output_type": "display_data"
    }
   ],
   "source": [
    "plt.pie(score_cluster['number_per_score'], labels=score_cluster['scores'], explode = [0, 0.3,0,0,0] )\n",
    "plt.legend(title='Scores:')\n",
    "plt.show()"
   ]
  },
  {
   "cell_type": "code",
   "execution_count": 10,
   "id": "f5501189",
   "metadata": {},
   "outputs": [
    {
     "data": {
      "text/plain": [
       "<AxesSubplot:xlabel='scores', ylabel='number_per_score'>"
      ]
     },
     "execution_count": 10,
     "metadata": {},
     "output_type": "execute_result"
    },
    {
     "data": {
      "image/png": "[encoded data removed]",
      "text/plain": [
       "<Figure size 432x288 with 1 Axes>"
      ]
     },
     "metadata": {
      "needs_background": "light"
     },
     "output_type": "display_data"
    }
   ],
   "source": [
    "sns.scatterplot(data=score_cluster, x=score_cluster['scores'], y=score_cluster['number_per_score'],hue = score_cluster['number_per_score'] ,legend = 'full')"
   ]
  },
  {
   "cell_type": "code",
   "execution_count": 11,
   "id": "271fe047",
   "metadata": {},
   "outputs": [],
   "source": [
    "word_tokens = []\n",
    "stemmer = PorterStemmer()\n",
    "for i in range(0,len(train_data)):\n",
    "    words = re.sub('[^a-zA-Z]',' ', train_data['review'][i])\n",
    "    words =words.lower()\n",
    "    words = words.split()\n",
    "    words = [stemmer.stem(word) for word in words if not word in set(stopwords.words('english'))]\n",
    "    words = ' '.join(words)\n",
    "    word_tokens.append(words)"
   ]
  },
  {
   "cell_type": "code",
   "execution_count": 120,
   "id": "964732b5",
   "metadata": {},
   "outputs": [
    {
     "data": {
      "text/plain": [
       "'arriv pm check painless downsid hotel look citi centr locat mind walk want nois citi place ideal hotel bar restaur decent size gym roof terrac sun lounger room good size especi travel larg teenag good size loung doubl sofa bed kitchen area dine tabl main bedroom good size doubl wardrob safe shower room well size plenti towel good suppli toiletri hairdryer fridg come stock bottl water get start get hotel bar minut walk take marina metro station access'"
      ]
     },
     "execution_count": 120,
     "metadata": {},
     "output_type": "execute_result"
    }
   ],
   "source": [
    "word_tokens[0]"
   ]
  },
  {
   "cell_type": "code",
   "execution_count": 121,
   "id": "b1d52bed",
   "metadata": {},
   "outputs": [
    {
     "name": "stdout",
     "output_type": "stream",
     "text": [
      "(35004, 2000) (35004,)\n"
     ]
    }
   ],
   "source": [
    "from sklearn.feature_extraction.text import CountVectorizer\n",
    "\n",
    "countvec = CountVectorizer(max_features = 2000, ngram_range = (4,4))\n",
    "x_train = countvec.fit_transform(word_tokens).toarray()\n",
    "y_train = train_data['rating']\n",
    "\n",
    "print(x_train.shape, y_train.shape)"
   ]
  },
  {
   "cell_type": "code",
   "execution_count": 122,
   "id": "aa3a7bb4",
   "metadata": {},
   "outputs": [
    {
     "data": {
      "text/plain": [
       "GaussianNB()"
      ]
     },
     "execution_count": 122,
     "metadata": {},
     "output_type": "execute_result"
    }
   ],
   "source": [
    "from sklearn.naive_bayes import GaussianNB\n",
    "gaussian_nb = GaussianNB()\n",
    "gaussian_nb.fit(x_train,y_train)\n",
    "\n"
   ]
  },
  {
   "cell_type": "code",
   "execution_count": 123,
   "id": "9fa65d91",
   "metadata": {},
   "outputs": [],
   "source": [
    "test_tokens = []\n",
    "stemmer = PorterStemmer()\n",
    "for i in range(0,len(test_data)):\n",
    "    words = re.sub('[^a-zA-Z]',' ', test_data['review'][i])\n",
    "    words =words.lower()\n",
    "    words = words.split()\n",
    "    words = [stemmer.stem(word) for word in words if not word in set(stopwords.words('english'))]\n",
    "    words = ' '.join(words)\n",
    "    test_tokens.append(words)"
   ]
  },
  {
   "cell_type": "code",
   "execution_count": 124,
   "id": "f72f571f",
   "metadata": {},
   "outputs": [],
   "source": [
    "x_test = countvec.fit_transform(test_tokens).toarray()"
   ]
  },
  {
   "cell_type": "code",
   "execution_count": 125,
   "id": "cee12559",
   "metadata": {},
   "outputs": [],
   "source": [
    "predict_ratings = gaussian_nb.predict(x_test)\n",
    "prob = gaussian_nb.predict_proba(x_test)"
   ]
  },
  {
   "cell_type": "code",
   "execution_count": 126,
   "id": "2d3a7d56",
   "metadata": {},
   "outputs": [
    {
     "name": "stdout",
     "output_type": "stream",
     "text": [
      "Test review: Not at all what expected.   Our mountain view was of the garage.  Asked to move but no rooms available and they said this was considered mountain view since it wasn't ocean view.   This was a business trip so if I was paying for this I would have been livid.  Would suggest if you book this place guarantee your view for the prices they charge.  No storage in bathroom at all.  Razor barely fit.  The three drawers provided were all this tiny and no space on the sink.    There coffee table is the size of a postage stamp so don't plan on putting anything there.  The rooms that they have for hotel guests are small.  Beware also the rooms have doorbells so kids and some guests like to ring these at all hours day and night.  We did complain so they had security do extra rounds.  Why a… \n",
      "\n",
      "prob_of_predicted_rating: [1. 0. 0. 0. 0.]\n",
      "\n",
      "Test review: Good location as we needed to head to Reims the next day and the hotel is literally opposite the train station where we needed to catch the train from. I might have found it too noisy otherwise. But this time t suited me perfectly! The receptionist Juliana was wonderful, she greeted us with a warm smile and was very helpful subsequently when I needed assistance. We got upgraded to a deluxe twin room. Very clean, albeit a small room, it has everything even a desk and a chair! The mini bar has 3 drinks and they were complimentary for the hotel guests, nice touch! The definite plus was Juliana, she made her guests feel so welcomed.  \n",
      "\n",
      "prob_of_predicted_rating: [1. 0. 0. 0. 0.]\n",
      "\n",
      "Test review: Me and my son just returned from Broadmoor Miami Beach. Hotel smells like an old building. Upon entering my room, i was greeted by an unpleasant foul stench. In Room 307 with a partial ocean view we saw a bunch of roaches in the bathroom. I complained and the woman at the front desk said that they never had roaches and i was the only one who complained, nevertheless, they upgraded us to a room with a better ocean view- 402.  There are a few helpful staff working at the front desk who were trying to compensate for the messy hotel, but at the end of the day nothing really helped to smooth our stay there. The Elevator was not always working and was very slow- we always took the stairs to get to the 4th floor. This served as an issue upon leaving the hotel with our suitcase.The… \n",
      "\n",
      "prob_of_predicted_rating: [1. 0. 0. 0. 0.]\n",
      "\n",
      "Test review: The place was filthy and full of stoned backpackers... Expected a budget, but romantic weekend - ended up tired of people screaming and laughing. Additionally, came back bitten by bed bugs :( The food and drinks were really cheap and delicious, though. If you miss some European food, I totally recommend their burgers. \n",
      "\n",
      "prob_of_predicted_rating: [1. 0. 0. 0. 0.]\n",
      "\n",
      "Test review: The hotel itself is really nice and modern which quirky artwork and facilities. The rooftop bar has amazing views, however, the drinks are very pricey and are alot cheaper elsewhere. A Sangria in a standard bar or restaurant in the city is about €4.50 however on the rooftop bar it's €12. The breakfast at the hotel is great and one of the best variety of foods I've seen at a hotel. The service from the staff at the hotel was also great. The only way I'd suggest the hotel improving is having a facility for people at the hotel to fill up water bottles for free. I had to spend €4 on a 33cl of water at the hotel bar. The area of the hotel isn't the best, it's in the Gothic Quarter which is okay but the last 5 mins of the walk to the hotel from the centre of town isn't great, feel… \n",
      "\n",
      "prob_of_predicted_rating: [0. 0. 0. 0. 1.]\n",
      "\n"
     ]
    }
   ],
   "source": [
    "for i in range(5):\n",
    "    print('Test review: {} \\n\\nprob_of_predicted_rating: {}\\n' .format(test_data.review[i], prob[i]))"
   ]
  },
  {
   "cell_type": "code",
   "execution_count": 127,
   "id": "6117b57a",
   "metadata": {},
   "outputs": [],
   "source": [
    "from sklearn.neighbors import KNeighborsClassifier\n",
    "knn = KNeighborsClassifier()\n",
    "model1 = knn.fit(x_train,y_train)"
   ]
  },
  {
   "cell_type": "code",
   "execution_count": 128,
   "id": "b3e162b4",
   "metadata": {},
   "outputs": [],
   "source": [
    "knn_prediction = model1.predict(x_test)\n"
   ]
  },
  {
   "cell_type": "code",
   "execution_count": 202,
   "id": "39b9a052",
   "metadata": {},
   "outputs": [
    {
     "name": "stdout",
     "output_type": "stream",
     "text": [
      "Test review: Not at all what expected.   Our mountain view was of the garage.  Asked to move but no rooms available and they said this was considered mountain view since it wasn't ocean view.   This was a business trip so if I was paying for this I would have been livid.  Would suggest if you book this place guarantee your view for the prices they charge.  No storage in bathroom at all.  Razor barely fit.  The three drawers provided were all this tiny and no space on the sink.    There coffee table is the size of a postage stamp so don't plan on putting anything there.  The rooms that they have for hotel guests are small.  Beware also the rooms have doorbells so kids and some guests like to ring these at all hours day and night.  We did complain so they had security do extra rounds.  Why a… \n",
      "\n",
      "prob_of_predicted_rating KNN: [0.8 0.2 0.  0.  0. ]\n",
      "\n",
      "Test review: Good location as we needed to head to Reims the next day and the hotel is literally opposite the train station where we needed to catch the train from. I might have found it too noisy otherwise. But this time t suited me perfectly! The receptionist Juliana was wonderful, she greeted us with a warm smile and was very helpful subsequently when I needed assistance. We got upgraded to a deluxe twin room. Very clean, albeit a small room, it has everything even a desk and a chair! The mini bar has 3 drinks and they were complimentary for the hotel guests, nice touch! The definite plus was Juliana, she made her guests feel so welcomed.  \n",
      "\n",
      "prob_of_predicted_rating KNN: [0.8 0.2 0.  0.  0. ]\n",
      "\n",
      "Test review: Me and my son just returned from Broadmoor Miami Beach. Hotel smells like an old building. Upon entering my room, i was greeted by an unpleasant foul stench. In Room 307 with a partial ocean view we saw a bunch of roaches in the bathroom. I complained and the woman at the front desk said that they never had roaches and i was the only one who complained, nevertheless, they upgraded us to a room with a better ocean view- 402.  There are a few helpful staff working at the front desk who were trying to compensate for the messy hotel, but at the end of the day nothing really helped to smooth our stay there. The Elevator was not always working and was very slow- we always took the stairs to get to the 4th floor. This served as an issue upon leaving the hotel with our suitcase.The… \n",
      "\n",
      "prob_of_predicted_rating KNN: [0.2 0.  0.  0.  0.8]\n",
      "\n",
      "Test review: The place was filthy and full of stoned backpackers... Expected a budget, but romantic weekend - ended up tired of people screaming and laughing. Additionally, came back bitten by bed bugs :( The food and drinks were really cheap and delicious, though. If you miss some European food, I totally recommend their burgers. \n",
      "\n",
      "prob_of_predicted_rating KNN: [0.8 0.2 0.  0.  0. ]\n",
      "\n",
      "Test review: The hotel itself is really nice and modern which quirky artwork and facilities. The rooftop bar has amazing views, however, the drinks are very pricey and are alot cheaper elsewhere. A Sangria in a standard bar or restaurant in the city is about €4.50 however on the rooftop bar it's €12. The breakfast at the hotel is great and one of the best variety of foods I've seen at a hotel. The service from the staff at the hotel was also great. The only way I'd suggest the hotel improving is having a facility for people at the hotel to fill up water bottles for free. I had to spend €4 on a 33cl of water at the hotel bar. The area of the hotel isn't the best, it's in the Gothic Quarter which is okay but the last 5 mins of the walk to the hotel from the centre of town isn't great, feel… \n",
      "\n",
      "prob_of_predicted_rating KNN: [0.  0.4 0.2 0.2 0.2]\n",
      "\n"
     ]
    }
   ],
   "source": [
    "predicted_prob_distr = model1.predict_proba(x_test)\n",
    "for i in range(5):\n",
    "    print('Test review: {} \\n\\nprob_of_predicted_rating KNN: {}\\n' .format(test_data.review[i], predicted_prob_distr[i]))"
   ]
  },
  {
   "cell_type": "code",
   "execution_count": 178,
   "id": "249e7b5d",
   "metadata": {},
   "outputs": [
    {
     "name": "stderr",
     "output_type": "stream",
     "text": [
      "C:\\Users\\Vivek\\anaconda3\\lib\\site-packages\\seaborn\\distributions.py:2557: FutureWarning: `distplot` is a deprecated function and will be removed in a future version. Please adapt your code to use either `displot` (a figure-level function with similar flexibility) or `histplot` (an axes-level function for histograms).\n",
      "  warnings.warn(msg, FutureWarning)\n"
     ]
    },
    {
     "data": {
      "text/plain": [
       "<AxesSubplot:ylabel='Density'>"
      ]
     },
     "execution_count": 178,
     "metadata": {},
     "output_type": "execute_result"
    },
    {
     "data": {
      "image/png": "[encoded data removed]",
      "text/plain": [
       "<Figure size 432x288 with 1 Axes>"
      ]
     },
     "metadata": {
      "needs_background": "light"
     },
     "output_type": "display_data"
    }
   ],
   "source": [
    "sns.distplot(predicted_prob_distr, hist=True, kde=True, \n",
    "             bins=int(25/5), color = 'darkblue', \n",
    "             hist_kws={'edgecolor':'black'},\n",
    "             kde_kws={'linewidth': 6})"
   ]
  },
  {
   "cell_type": "code",
   "execution_count": 158,
   "id": "b9a3cf79",
   "metadata": {},
   "outputs": [
    {
     "name": "stderr",
     "output_type": "stream",
     "text": [
      "C:\\Users\\Vivek\\anaconda3\\lib\\site-packages\\seaborn\\distributions.py:2557: FutureWarning: `distplot` is a deprecated function and will be removed in a future version. Please adapt your code to use either `displot` (a figure-level function with similar flexibility) or `histplot` (an axes-level function for histograms).\n",
      "  warnings.warn(msg, FutureWarning)\n"
     ]
    },
    {
     "data": {
      "text/plain": [
       "<AxesSubplot:ylabel='Density'>"
      ]
     },
     "execution_count": 158,
     "metadata": {},
     "output_type": "execute_result"
    },
    {
     "data": {
      "image/png": "[encoded data removed]",
      "text/plain": [
       "<Figure size 432x288 with 1 Axes>"
      ]
     },
     "metadata": {
      "needs_background": "light"
     },
     "output_type": "display_data"
    }
   ],
   "source": [
    "sns.distplot(prob[0:100], hist=True, kde=True,\n",
    "             kde_kws={'shade': True, 'linewidth': 2})"
   ]
  },
  {
   "cell_type": "code",
   "execution_count": 204,
   "id": "4b8b3bd1",
   "metadata": {},
   "outputs": [
    {
     "name": "stdout",
     "output_type": "stream",
     "text": [
      "Closeness score between 2 distributions showing max score at rating 1: [0.9701425  0.24253563 0.         0.         0.        ]\n",
      "\n",
      "Individual distributions confirming the same rating : \n",
      " NB 0.6 \n",
      " KNN [0.8 0.2 0.  0.  0. ]\n"
     ]
    }
   ],
   "source": [
    "def cos_similarity(x,y):\n",
    "    return np.dot(x, y)/(np.linalg.norm(x)*np.linalg.norm(y))\n",
    "print('Closeness score between 2 distributions showing max score at rating 1:' ,cos_similarity(prob[0],predicted_prob_distr[0]))\n",
    "\n",
    "\n",
    "print('\\nIndividual distributions confirming the same rating : \\n NB {} \\n KNN {}'.format(prob[0], predicted_prob_distr[0]))\n"
   ]
  },
  {
   "cell_type": "code",
   "execution_count": null,
   "id": "18959fe3",
   "metadata": {},
   "outputs": [],
   "source": []
  }
 ],
 "metadata": {
  "kernelspec": {
   "display_name": "Python 3",
   "language": "python",
   "name": "python3"
  },
  "language_info": {
   "codemirror_mode": {
    "name": "ipython",
    "version": 3
   },
   "file_extension": ".py",
   "mimetype": "text/x-python",
   "name": "python",
   "nbconvert_exporter": "python",
   "pygments_lexer": "ipython3",
   "version": "3.7.10"
  }
 },
 "nbformat": 4,
 "nbformat_minor": 5
}
